{
 "cells": [
  {
   "cell_type": "code",
   "execution_count": 9,
   "metadata": {},
   "outputs": [],
   "source": [
    "import os\n",
    "import csv\n",
    "import numpy as np\n",
    "import pandas as pd\n",
    "import json"
   ]
  },
  {
   "cell_type": "code",
   "execution_count": 33,
   "metadata": {},
   "outputs": [],
   "source": [
    "def log(title=''):print('------------------' \\\n",
    "                        +title+'-------------------')"
   ]
  },
  {
   "cell_type": "code",
   "execution_count": null,
   "metadata": {},
   "outputs": [],
   "source": [
    "project_file_type = ['*']\n",
    "\n",
    "def set_project_file_type(file_type):\n",
    "    project_file_type = file_type"
   ]
  },
  {
   "cell_type": "code",
   "execution_count": 11,
   "metadata": {},
   "outputs": [],
   "source": [
    "# 清洗数据\n",
    "def clean_book(document):\n",
    "    lines = document.split(\"\\n\")\n",
    "    start= 0\n",
    "    end = len(lines)\n",
    "    for i in range(len(lines)):\n",
    "        line = lines[i]\n",
    "        if line.startswith(\"*** START OF THIS PROJECT GUTENBERG\"):\n",
    "            start = i + 1\n",
    "        elif line.startswith(\"*** END OF THIS PROJECT GUTENBERG\"):\n",
    "            end = i - 1\n",
    "    return \"\\n\".join(lines[start:end])\n",
    "\n",
    "# 检查输入文件名是否符合需要的文件类型，不输入file_type默认都符合\n",
    "def check_file_type(file_name = '', file_type = ['*']):\n",
    "    if file_name == '':\n",
    "        print('请输入合法的文件名！')\n",
    "        return False\n",
    "    if '*' in file_type : return True\n",
    "    rs = False\n",
    "    for f_type in file_type:\n",
    "        if file_name.endswith('.'+f_type):\n",
    "            rs = True\n",
    "            break\n",
    "    return rs\n"
   ]
  },
  {
   "cell_type": "code",
   "execution_count": 24,
   "metadata": {},
   "outputs": [],
   "source": [
    "# 加载数据（限制两层目录）\n",
    "def load_project_data_limit(folder = ''):\n",
    "    # 文件目录合法性校验\n",
    "    if not(os.path.isdir(folder)):\n",
    "        print('请输入合法的文件目录！')\n",
    "        return [],[]\n",
    "    # 定义载入数组\n",
    "    documents = []\n",
    "    paths = []\n",
    "    # 遍历目录及其子目录，生成目录数组\n",
    "    # 目前只有两层。。。这里需要重构成一个递归方法，递归生成所有目录。。。。\n",
    "    subfolders = [subfolder for subfolder in os.listdir(folder)\n",
    "                  if os.path.isdir(os.path.join(folder, subfolder))]\n",
    "    # 根据目录数组找出所有目录下的所有文件\n",
    "    for subfolder in subfolders:\n",
    "        full_subfolder_path = os.path.join(folder, subfolder)\n",
    "        print('目前加载目录：%s' % full_subfolder_path)\n",
    "        for document_name in os.listdir(full_subfolder_path):\n",
    "            print(document_name)\n",
    "            if not(check_file_type(document_name,['txt'])):continue\n",
    "            try:\n",
    "                with open(os.path.join(full_subfolder_path, document_name), 'r',encoding='utf-8') as inf:\n",
    "                    documents.append(clean_book(inf.read()))\n",
    "                    paths.append(full_subfolder_path)\n",
    "            except(UnicodeDecodeError):\n",
    "                print('error file : %s '%os.path.join(full_subfolder_path, document_name))\n",
    "    return documents, paths"
   ]
  },
  {
   "cell_type": "code",
   "execution_count": 25,
   "metadata": {
    "scrolled": false
   },
   "outputs": [],
   "source": [
    "# 加载数据（兼容所有嵌套目录）\n",
    "def load_project_data(folder = '',file_type = ['*']):\n",
    "    # 文件目录合法性校验\n",
    "    if not(os.path.isdir(folder)):\n",
    "        print('请输入合法的文件目录！')\n",
    "        return [],[]\n",
    "    # 定义载入数组\n",
    "    documents = []\n",
    "    filenames = []\n",
    "    paths = []\n",
    "    print('输入目录地址：%s' % folder)\n",
    "    for full_folder_path, dirs, files in os.walk(folder):\n",
    "        print('－－－－－－－－－－－')\n",
    "        print('当前目录地址：%s' % full_folder_path) #当前目录路径，得到指定目录下的所有嵌套目录结构（只有目录没有文件）\n",
    "        print('含有文件：%s' % files) #当前路径下所有非目录子文件\n",
    "        for document_name in files:\n",
    "            if check_file_type(document_name, file_type):\n",
    "                try:\n",
    "                    with open(os.path.join(full_folder_path, document_name), 'r',encoding='utf-8') as inf:\n",
    "                        documents.append(clean_book(inf.read()))\n",
    "                        filenames.append(document_name)\n",
    "                        paths.append(full_folder_path)\n",
    "                except(UnicodeDecodeError):\n",
    "                    print('读取文件错误 : %s '%os.path.join(full_folder_path, document_name))\n",
    "    return documents, filenames, paths\n"
   ]
  },
  {
   "cell_type": "code",
   "execution_count": 26,
   "metadata": {},
   "outputs": [],
   "source": [
    "# os包中的walk使用\n",
    "def file_name(file_dir):\n",
    "    print('输入目录地址：%s' % file_dir)\n",
    "    for root, dirs, files in os.walk(file_dir):\n",
    "        print('－－－－－－－－－－－')\n",
    "        print('当前目录地址：%s' % root) #当前目录路径，得到指定目录下的所有嵌套目录结构（只有目录没有文件）\n",
    "        print('含有文件夹：%s' % dirs) #当前路径下所有子目录\n",
    "        print('含有文件：%s' % files) #当前路径下所有非目录子文件  \n"
   ]
  },
  {
   "cell_type": "code",
   "execution_count": 32,
   "metadata": {},
   "outputs": [],
   "source": [
    "# os包中的listdir使用\n",
    "def listdir(path):\n",
    "    for file in os.listdir(path):\n",
    "        file_path = os.path.join(path, file)\n",
    "        if os.path.isdir(file_path): # 判断是文件夹还是文件\n",
    "            listdir(file_path) # 递归搜索子目录\n",
    "        else:\n",
    "            print('含有文件：%s' % file_path) # 找到文件\n"
   ]
  },
  {
   "cell_type": "code",
   "execution_count": 28,
   "metadata": {},
   "outputs": [
    {
     "name": "stdout",
     "output_type": "stream",
     "text": [
      "------------------初始化-------------------\n",
      "导入的数据集是： /Users/hata/Develop/workspace_python/jupyter-notebook/CodePortrait/data/books \n"
     ]
    }
   ],
   "source": [
    "log('初始化')\n",
    "path_folder = '/Users/hata/Develop/' \\\n",
    "    + 'workspace_python/jupyter-notebook/' \\\n",
    "    + 'CodePortrait/data/'\n",
    "data_folder=os.path.join(path_folder,\"books\")\n",
    "print('导入的数据集是： %s ' % data_folder)"
   ]
  },
  {
   "cell_type": "code",
   "execution_count": 29,
   "metadata": {},
   "outputs": [
    {
     "name": "stdout",
     "output_type": "stream",
     "text": [
      "------------------测试加载样本数据-------------------\n",
      "输入目录地址：/Users/hata/Develop/workspace_python/jupyter-notebook/CodePortrait/data/books\n",
      "－－－－－－－－－－－\n",
      "当前目录地址：/Users/hata/Develop/workspace_python/jupyter-notebook/CodePortrait/data/books\n",
      "含有文件：['.DS_Store', '2400 2.txt', '2400.txt']\n",
      "－－－－－－－－－－－\n",
      "当前目录地址：/Users/hata/Develop/workspace_python/jupyter-notebook/CodePortrait/data/books/burton\n",
      "含有文件：['.DS_Store', '18506.txt', '2400.txt', '4657.txt', '4658.txt', '5760.txt', '5761.txt', '6036.txt', '6886.txt', '7111.txt', '7113.txt', '8821.txt']\n",
      "－－－－－－－－－－－\n",
      "当前目录地址：/Users/hata/Develop/workspace_python/jupyter-notebook/CodePortrait/data/books/burton/sub\n",
      "含有文件：['.DS_Store', '2400.txt']\n",
      "－－－－－－－－－－－\n",
      "当前目录地址：/Users/hata/Develop/workspace_python/jupyter-notebook/CodePortrait/data/books/burton/sub/sub\n",
      "含有文件：['2400.txt']\n",
      "－－－－－－－－－－－\n",
      "当前目录地址：/Users/hata/Develop/workspace_python/jupyter-notebook/CodePortrait/data/books/test\n",
      "含有文件：['2400.txt']\n",
      "------------------检查加载样本数据-------------------\n",
      "documents length: 16 \n",
      "filenames length: 16 \n",
      "paths length: 16 \n"
     ]
    }
   ],
   "source": [
    "log('测试加载样本数据')\n",
    "documents, filenames, paths = load_project_data(data_folder,['txt'])\n",
    "log('检查加载样本数据')\n",
    "print('documents length: %i ' % len(documents))\n",
    "print('filenames length: %i ' % len(filenames))\n",
    "print('paths length: %i ' % len(paths))\n",
    "#print(documents[:1])\n",
    "#print(filenames)\n",
    "#print(paths)\n"
   ]
  },
  {
   "cell_type": "code",
   "execution_count": 35,
   "metadata": {},
   "outputs": [
    {
     "name": "stdout",
     "output_type": "stream",
     "text": [
      "------------------测试加载样本数据-------------------\n",
      "导入的数据集是： /Users/hata/Develop/workspace_springmvc/SpringbootRESTfulDemo/src \n",
      "输入目录地址：/Users/hata/Develop/workspace_springmvc/SpringbootRESTfulDemo/src\n",
      "－－－－－－－－－－－\n",
      "当前目录地址：/Users/hata/Develop/workspace_springmvc/SpringbootRESTfulDemo/src\n",
      "含有文件：['.DS_Store']\n",
      "读取文件错误 : /Users/hata/Develop/workspace_springmvc/SpringbootRESTfulDemo/src/.DS_Store \n",
      "－－－－－－－－－－－\n",
      "当前目录地址：/Users/hata/Develop/workspace_springmvc/SpringbootRESTfulDemo/src/main\n",
      "含有文件：['.DS_Store']\n",
      "读取文件错误 : /Users/hata/Develop/workspace_springmvc/SpringbootRESTfulDemo/src/main/.DS_Store \n",
      "－－－－－－－－－－－\n",
      "当前目录地址：/Users/hata/Develop/workspace_springmvc/SpringbootRESTfulDemo/src/main/java\n",
      "含有文件：['.DS_Store']\n",
      "读取文件错误 : /Users/hata/Develop/workspace_springmvc/SpringbootRESTfulDemo/src/main/java/.DS_Store \n",
      "－－－－－－－－－－－\n",
      "当前目录地址：/Users/hata/Develop/workspace_springmvc/SpringbootRESTfulDemo/src/main/java/demo\n",
      "含有文件：['.DS_Store']\n",
      "读取文件错误 : /Users/hata/Develop/workspace_springmvc/SpringbootRESTfulDemo/src/main/java/demo/.DS_Store \n",
      "－－－－－－－－－－－\n",
      "当前目录地址：/Users/hata/Develop/workspace_springmvc/SpringbootRESTfulDemo/src/main/java/demo/java\n",
      "含有文件：['.DS_Store']\n",
      "读取文件错误 : /Users/hata/Develop/workspace_springmvc/SpringbootRESTfulDemo/src/main/java/demo/java/.DS_Store \n",
      "－－－－－－－－－－－\n",
      "当前目录地址：/Users/hata/Develop/workspace_springmvc/SpringbootRESTfulDemo/src/main/java/demo/java/spring\n",
      "含有文件：['.DS_Store', 'App.java', 'SpringdemoApplication.java']\n",
      "读取文件错误 : /Users/hata/Develop/workspace_springmvc/SpringbootRESTfulDemo/src/main/java/demo/java/spring/.DS_Store \n",
      "－－－－－－－－－－－\n",
      "当前目录地址：/Users/hata/Develop/workspace_springmvc/SpringbootRESTfulDemo/src/main/java/demo/java/spring/controller\n",
      "含有文件：['BaseController.java', 'ColorController.java']\n",
      "－－－－－－－－－－－\n",
      "当前目录地址：/Users/hata/Develop/workspace_springmvc/SpringbootRESTfulDemo/src/main/java/demo/java/spring/dao\n",
      "含有文件：['.DS_Store', 'ColorMapper.java']\n",
      "读取文件错误 : /Users/hata/Develop/workspace_springmvc/SpringbootRESTfulDemo/src/main/java/demo/java/spring/dao/.DS_Store \n",
      "－－－－－－－－－－－\n",
      "当前目录地址：/Users/hata/Develop/workspace_springmvc/SpringbootRESTfulDemo/src/main/java/demo/java/spring/dao/extend\n",
      "含有文件：['ColorExtendMapper.java']\n",
      "－－－－－－－－－－－\n",
      "当前目录地址：/Users/hata/Develop/workspace_springmvc/SpringbootRESTfulDemo/src/main/java/demo/java/spring/domain\n",
      "含有文件：['.DS_Store', 'Color.java', 'ColorExample.java']\n",
      "读取文件错误 : /Users/hata/Develop/workspace_springmvc/SpringbootRESTfulDemo/src/main/java/demo/java/spring/domain/.DS_Store \n",
      "－－－－－－－－－－－\n",
      "当前目录地址：/Users/hata/Develop/workspace_springmvc/SpringbootRESTfulDemo/src/main/java/demo/java/spring/domain/extend\n",
      "含有文件：['ColorExtend.java']\n",
      "－－－－－－－－－－－\n",
      "当前目录地址：/Users/hata/Develop/workspace_springmvc/SpringbootRESTfulDemo/src/main/java/demo/java/spring/dto\n",
      "含有文件：['RSResult.java']\n",
      "－－－－－－－－－－－\n",
      "当前目录地址：/Users/hata/Develop/workspace_springmvc/SpringbootRESTfulDemo/src/main/java/demo/java/spring/service\n",
      "含有文件：['BaseService.java', 'ColorService.java']\n",
      "－－－－－－－－－－－\n",
      "当前目录地址：/Users/hata/Develop/workspace_springmvc/SpringbootRESTfulDemo/src/main/java/demo/java/spring/service/impl\n",
      "含有文件：['ColorServiceImpl.java']\n",
      "－－－－－－－－－－－\n",
      "当前目录地址：/Users/hata/Develop/workspace_springmvc/SpringbootRESTfulDemo/src/main/resources\n",
      "含有文件：['.DS_Store', 'application-dev.properties', 'application.properties']\n",
      "读取文件错误 : /Users/hata/Develop/workspace_springmvc/SpringbootRESTfulDemo/src/main/resources/.DS_Store \n",
      "－－－－－－－－－－－\n",
      "当前目录地址：/Users/hata/Develop/workspace_springmvc/SpringbootRESTfulDemo/src/main/resources/mybatis\n",
      "含有文件：['ColorExtendMapper.xml', 'ColorMapper.xml']\n",
      "－－－－－－－－－－－\n",
      "当前目录地址：/Users/hata/Develop/workspace_springmvc/SpringbootRESTfulDemo/src/test\n",
      "含有文件：[]\n",
      "－－－－－－－－－－－\n",
      "当前目录地址：/Users/hata/Develop/workspace_springmvc/SpringbootRESTfulDemo/src/test/java\n",
      "含有文件：[]\n",
      "－－－－－－－－－－－\n",
      "当前目录地址：/Users/hata/Develop/workspace_springmvc/SpringbootRESTfulDemo/src/test/resources\n",
      "含有文件：[]\n",
      "------------------检查加载样本数据-------------------\n",
      "documents length: 17 \n",
      "filenames length: 17 \n",
      "paths length: 17 \n"
     ]
    }
   ],
   "source": [
    "log('测试加载样本数据')\n",
    "path_folder = '/Users/hata/Develop/' \\\n",
    "    + 'workspace_springmvc/' \\\n",
    "    + 'SpringbootRESTfulDemo/'\n",
    "data_folder=os.path.join(path_folder,\"src\")\n",
    "print('导入的数据集是： %s ' % data_folder)\n",
    "file_type = ['txt','java','xml']\n",
    "documents, filenames, paths = load_project_data(data_folder)\n",
    "log('检查加载样本数据')\n",
    "print('documents length: %i ' % len(documents))\n",
    "print('filenames length: %i ' % len(filenames))\n",
    "print('paths length: %i ' % len(paths))"
   ]
  },
  {
   "cell_type": "code",
   "execution_count": null,
   "metadata": {},
   "outputs": [],
   "source": []
  },
  {
   "cell_type": "code",
   "execution_count": null,
   "metadata": {},
   "outputs": [],
   "source": []
  },
  {
   "cell_type": "code",
   "execution_count": null,
   "metadata": {},
   "outputs": [],
   "source": []
  }
 ],
 "metadata": {
  "kernelspec": {
   "display_name": "Python 3",
   "language": "python",
   "name": "python3"
  },
  "language_info": {
   "codemirror_mode": {
    "name": "ipython",
    "version": 3
   },
   "file_extension": ".py",
   "mimetype": "text/x-python",
   "name": "python",
   "nbconvert_exporter": "python",
   "pygments_lexer": "ipython3",
   "version": "3.5.2"
  }
 },
 "nbformat": 4,
 "nbformat_minor": 2
}
