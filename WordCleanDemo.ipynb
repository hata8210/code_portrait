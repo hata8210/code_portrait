{
 "cells": [
  {
   "cell_type": "code",
   "execution_count": 1,
   "metadata": {},
   "outputs": [],
   "source": [
    "# 导入依赖包\n",
    "import os\n",
    "import csv\n",
    "import numpy as np\n",
    "import pandas as pd\n",
    "import json\n",
    "from nltk import word_tokenize\n",
    "from nltk.corpus import words\n",
    "import nltk\n",
    "# 导入自定义依赖包\n",
    "import LoadFileDemo as lf\n",
    "import SeparateWordDemo as sw"
   ]
  },
  {
   "cell_type": "code",
   "execution_count": 2,
   "metadata": {},
   "outputs": [],
   "source": [
    "# 提取词干\n",
    "# 对于提取词干后判断单词是否有效，无效单词则用回提取词干前单词\n",
    "porter = nltk.PorterStemmer()\n",
    "lancaster=nltk.LancasterStemmer()\n",
    "word_list = set(words.words())\n",
    "\n",
    "def get_stem(word_before):\n",
    "    word_after = porter.stem(word_before) # 还可以选择使用lancaster.stem(t)\n",
    "    if word_after in word_list: # 判断是否有含义的英语单词\n",
    "        return word_after\n",
    "    else:\n",
    "        return word_before\n"
   ]
  },
  {
   "cell_type": "code",
   "execution_count": 3,
   "metadata": {},
   "outputs": [],
   "source": [
    "# 定义停用词集合，java项目保留关键字集合\n",
    "stop_use_word_java = ['private','protected','public',\n",
    "                      'abstract','class','extends','final','implements','interface','native','new','static','strictfp','synchronized','transient','volatile',\n",
    "                      'break','continue','return','do','while','if','else','for','instanceof','switch','case','deault',\n",
    "                      'catch','finally','throw','throws','try',\n",
    "                      'import','package',\n",
    "                      'boolean','byte','char','double','float','int','long','short','null','true','false',\n",
    "                      'super','this','void',\n",
    "                      'const','goto',\n",
    "                      'this'\n",
    "                     ]\n"
   ]
  },
  {
   "cell_type": "code",
   "execution_count": 4,
   "metadata": {},
   "outputs": [],
   "source": [
    "# 特征处理\n",
    "def clean_word(word = ''):\n",
    "    # 去掉中文、去掉无效字符、去掉停用词\n",
    "    if not(word.isalpha()) or (word in stop_use_word_java):\n",
    "        return 'this_word_is_illegle'\n",
    "    # 提取词干、单词全部小写\n",
    "    rs = get_stem(word).lower()\n",
    "    return rs\n",
    "\n",
    "def clean_text(text = ['']):\n",
    "    # 遍历文章每个分词\n",
    "    print('本次处理文章的长度：%i ' % len(text))\n",
    "    return [clean_word(word) for word in text if not(clean_word(word) == 'this_word_is_illegle')]\n",
    "\n",
    "def word_clean(text_list):\n",
    "    # 遍历每篇文章\n",
    "    return [clean_text(text) for text in text_list]\n"
   ]
  },
  {
   "cell_type": "code",
   "execution_count": 5,
   "metadata": {},
   "outputs": [
    {
     "name": "stdout",
     "output_type": "stream",
     "text": [
      "------------------初始化-------------------\n",
      "导入的数据集是： /Users/hata/Develop/workspace_python/jupyter-notebook/CodePortrait/data/books \n"
     ]
    }
   ],
   "source": [
    "lf.log('初始化')\n",
    "path_folder = '/Users/hata/Develop/' \\\n",
    "    + 'workspace_python/jupyter-notebook/' \\\n",
    "    + 'CodePortrait/data/'\n",
    "data_folder=os.path.join(path_folder,\"books\")\n",
    "print('导入的数据集是： %s ' % data_folder)\n"
   ]
  },
  {
   "cell_type": "code",
   "execution_count": 6,
   "metadata": {},
   "outputs": [
    {
     "name": "stdout",
     "output_type": "stream",
     "text": [
      "------------------测试加载样本数据-------------------\n",
      "输入目录地址：/Users/hata/Develop/workspace_python/jupyter-notebook/CodePortrait/data/books\n",
      "－－－－－－－－－－－\n",
      "当前目录地址：/Users/hata/Develop/workspace_python/jupyter-notebook/CodePortrait/data/books\n",
      "含有文件：['.DS_Store', '2400 2.txt', '2400.txt']\n",
      "－－－－－－－－－－－\n",
      "当前目录地址：/Users/hata/Develop/workspace_python/jupyter-notebook/CodePortrait/data/books/burton\n",
      "含有文件：['.DS_Store', '18506.txt', '2400.txt', '4657.txt', '4658.txt', '5760.txt', '5761.txt', '6036.txt', '6886.txt', '7111.txt', '7113.txt', '8821.txt']\n",
      "－－－－－－－－－－－\n",
      "当前目录地址：/Users/hata/Develop/workspace_python/jupyter-notebook/CodePortrait/data/books/burton/sub\n",
      "含有文件：['.DS_Store', '2400.txt']\n",
      "－－－－－－－－－－－\n",
      "当前目录地址：/Users/hata/Develop/workspace_python/jupyter-notebook/CodePortrait/data/books/burton/sub/sub\n",
      "含有文件：['2400.txt']\n",
      "－－－－－－－－－－－\n",
      "当前目录地址：/Users/hata/Develop/workspace_python/jupyter-notebook/CodePortrait/data/books/test\n",
      "含有文件：['2400.txt']\n",
      "------------------检查加载样本数据-------------------\n",
      "documents length: 16 \n",
      "filenames length: 16 \n",
      "paths length: 16 \n"
     ]
    }
   ],
   "source": [
    "lf.log('测试加载样本数据')\n",
    "documents, filenames, paths = lf.load_project_data(data_folder)\n",
    "lf.log('检查加载样本数据')\n",
    "print('documents length: %i ' % len(documents))\n",
    "print('filenames length: %i ' % len(filenames))\n",
    "print('paths length: %i ' % len(paths))\n"
   ]
  },
  {
   "cell_type": "code",
   "execution_count": 7,
   "metadata": {},
   "outputs": [
    {
     "name": "stdout",
     "output_type": "stream",
     "text": [
      "------------------测试分词效果-------------------\n",
      "分词符号集合: ['\\r\\n', '\\r', '\\n', '\\t', ' ', '_', '.', ',', '+', '-', '=', ';', ':', '/', '*', '#', '@', '?', '!', '%', '^', \"'\", '\"', '(', ')', '[', ']', '{', '}', '&', '~', '|', '-'] \n",
      "目标分词符号:   \n",
      "分词符号集合: ['\\r\\n', '\\r', '\\n', '\\t', ' ', '_', '.', ',', '+', '-', '=', ';', ':', '/', '*', '#', '@', '?', '!', '%', '^', \"'\", '\"', '(', ')', '[', ']', '{', '}', '&', '~', '|', '-'] \n",
      "目标分词符号:   \n",
      "分词符号集合: ['\\r\\n', '\\r', '\\n', '\\t', ' ', '_', '.', ',', '+', '-', '=', ';', ':', '/', '*', '#', '@', '?', '!', '%', '^', \"'\", '\"', '(', ')', '[', ']', '{', '}', '&', '~', '|', '-'] \n",
      "目标分词符号:   \n",
      "分词符号集合: ['\\r\\n', '\\r', '\\n', '\\t', ' ', '_', '.', ',', '+', '-', '=', ';', ':', '/', '*', '#', '@', '?', '!', '%', '^', \"'\", '\"', '(', ')', '[', ']', '{', '}', '&', '~', '|', '-'] \n",
      "目标分词符号:   \n",
      "分词符号集合: ['\\r\\n', '\\r', '\\n', '\\t', ' ', '_', '.', ',', '+', '-', '=', ';', ':', '/', '*', '#', '@', '?', '!', '%', '^', \"'\", '\"', '(', ')', '[', ']', '{', '}', '&', '~', '|', '-'] \n",
      "目标分词符号:   \n",
      "分词符号集合: ['\\r\\n', '\\r', '\\n', '\\t', ' ', '_', '.', ',', '+', '-', '=', ';', ':', '/', '*', '#', '@', '?', '!', '%', '^', \"'\", '\"', '(', ')', '[', ']', '{', '}', '&', '~', '|', '-'] \n",
      "目标分词符号:   \n",
      "分词符号集合: ['\\r\\n', '\\r', '\\n', '\\t', ' ', '_', '.', ',', '+', '-', '=', ';', ':', '/', '*', '#', '@', '?', '!', '%', '^', \"'\", '\"', '(', ')', '[', ']', '{', '}', '&', '~', '|', '-'] \n",
      "目标分词符号:   \n",
      "分词符号集合: ['\\r\\n', '\\r', '\\n', '\\t', ' ', '_', '.', ',', '+', '-', '=', ';', ':', '/', '*', '#', '@', '?', '!', '%', '^', \"'\", '\"', '(', ')', '[', ']', '{', '}', '&', '~', '|', '-'] \n",
      "目标分词符号:   \n",
      "分词符号集合: ['\\r\\n', '\\r', '\\n', '\\t', ' ', '_', '.', ',', '+', '-', '=', ';', ':', '/', '*', '#', '@', '?', '!', '%', '^', \"'\", '\"', '(', ')', '[', ']', '{', '}', '&', '~', '|', '-'] \n",
      "目标分词符号:   \n",
      "分词符号集合: ['\\r\\n', '\\r', '\\n', '\\t', ' ', '_', '.', ',', '+', '-', '=', ';', ':', '/', '*', '#', '@', '?', '!', '%', '^', \"'\", '\"', '(', ')', '[', ']', '{', '}', '&', '~', '|', '-'] \n",
      "目标分词符号:   \n",
      "分词符号集合: ['\\r\\n', '\\r', '\\n', '\\t', ' ', '_', '.', ',', '+', '-', '=', ';', ':', '/', '*', '#', '@', '?', '!', '%', '^', \"'\", '\"', '(', ')', '[', ']', '{', '}', '&', '~', '|', '-'] \n",
      "目标分词符号:   \n",
      "分词符号集合: ['\\r\\n', '\\r', '\\n', '\\t', ' ', '_', '.', ',', '+', '-', '=', ';', ':', '/', '*', '#', '@', '?', '!', '%', '^', \"'\", '\"', '(', ')', '[', ']', '{', '}', '&', '~', '|', '-'] \n",
      "目标分词符号:   \n",
      "分词符号集合: ['\\r\\n', '\\r', '\\n', '\\t', ' ', '_', '.', ',', '+', '-', '=', ';', ':', '/', '*', '#', '@', '?', '!', '%', '^', \"'\", '\"', '(', ')', '[', ']', '{', '}', '&', '~', '|', '-'] \n",
      "目标分词符号:   \n",
      "分词符号集合: ['\\r\\n', '\\r', '\\n', '\\t', ' ', '_', '.', ',', '+', '-', '=', ';', ':', '/', '*', '#', '@', '?', '!', '%', '^', \"'\", '\"', '(', ')', '[', ']', '{', '}', '&', '~', '|', '-'] \n",
      "目标分词符号:   \n",
      "分词符号集合: ['\\r\\n', '\\r', '\\n', '\\t', ' ', '_', '.', ',', '+', '-', '=', ';', ':', '/', '*', '#', '@', '?', '!', '%', '^', \"'\", '\"', '(', ')', '[', ']', '{', '}', '&', '~', '|', '-'] \n",
      "目标分词符号:   \n",
      "分词符号集合: ['\\r\\n', '\\r', '\\n', '\\t', ' ', '_', '.', ',', '+', '-', '=', ';', ':', '/', '*', '#', '@', '?', '!', '%', '^', \"'\", '\"', '(', ')', '[', ']', '{', '}', '&', '~', '|', '-'] \n",
      "目标分词符号:   \n",
      "output_text_list length: 16 \n"
     ]
    }
   ],
   "source": [
    "lf.log('测试分词效果')\n",
    "output_text_list = sw.separate_texts(documents)\n",
    "print('output_text_list length: %i ' % len(output_text_list))\n"
   ]
  },
  {
   "cell_type": "code",
   "execution_count": 8,
   "metadata": {},
   "outputs": [
    {
     "name": "stdout",
     "output_type": "stream",
     "text": [
      "------------------测试提取词干-------------------\n",
      "['rrr r', '678tttt', 'testTT', 'test', 'test', 'rrr', '8rred8ttf', 'tew']\n"
     ]
    }
   ],
   "source": [
    "lf.log('测试提取词干')\n",
    "print([get_stem(t) for t in ['rrr r','678tttt','testTT','tests','tested','rrr','8rred8ttf','tew']])"
   ]
  },
  {
   "cell_type": "code",
   "execution_count": 9,
   "metadata": {},
   "outputs": [
    {
     "name": "stdout",
     "output_type": "stream",
     "text": [
      "------------------测试特征预处理-------------------\n",
      "this_word_is_illegle\n",
      "本次处理文章的长度：8 \n",
      "本次处理文章的长度：3 \n",
      "[['testtt', 'test', 'test', 'rrr', 'tew'], ['tttt']]\n"
     ]
    }
   ],
   "source": [
    "lf.log('测试特征预处理')\n",
    "print(clean_word('lejrocjojeewi1jfow'))\n",
    "print( word_clean([['rrr r','678tttt','testTT','tests','tested','rrr','8rred8ttf','tew'],['rrr_r','123','tttt']]) )"
   ]
  },
  {
   "cell_type": "code",
   "execution_count": 10,
   "metadata": {},
   "outputs": [
    {
     "name": "stdout",
     "output_type": "stream",
     "text": [
      "------------------测试特征预处理（全部）-------------------\n",
      "本次处理文章的长度：78346 \n",
      "本次处理文章的长度：78346 \n",
      "本次处理文章的长度：92655 \n",
      "本次处理文章的长度：78346 \n",
      "本次处理文章的长度：159099 \n",
      "本次处理文章的长度：171913 \n",
      "本次处理文章的长度：61974 \n",
      "本次处理文章的长度：80226 \n",
      "本次处理文章的长度：21009 \n",
      "本次处理文章的长度：127159 \n",
      "本次处理文章的长度：86520 \n",
      "本次处理文章的长度：76196 \n",
      "本次处理文章的长度：87547 \n",
      "本次处理文章的长度：78346 \n",
      "本次处理文章的长度：78346 \n",
      "本次处理文章的长度：78346 \n",
      "text_done_list length: 16 \n"
     ]
    }
   ],
   "source": [
    "lf.log('测试特征预处理（全部）')\n",
    "text_done_list = word_clean(output_text_list)\n",
    "print('text_done_list length: %i ' % len(text_done_list))\n",
    "#print(text_done_list[0])"
   ]
  },
  {
   "cell_type": "code",
   "execution_count": null,
   "metadata": {},
   "outputs": [],
   "source": []
  },
  {
   "cell_type": "code",
   "execution_count": null,
   "metadata": {},
   "outputs": [],
   "source": []
  },
  {
   "cell_type": "code",
   "execution_count": null,
   "metadata": {},
   "outputs": [],
   "source": []
  }
 ],
 "metadata": {
  "kernelspec": {
   "display_name": "Python 3",
   "language": "python",
   "name": "python3"
  },
  "language_info": {
   "codemirror_mode": {
    "name": "ipython",
    "version": 3
   },
   "file_extension": ".py",
   "mimetype": "text/x-python",
   "name": "python",
   "nbconvert_exporter": "python",
   "pygments_lexer": "ipython3",
   "version": "3.5.2"
  }
 },
 "nbformat": 4,
 "nbformat_minor": 2
}
