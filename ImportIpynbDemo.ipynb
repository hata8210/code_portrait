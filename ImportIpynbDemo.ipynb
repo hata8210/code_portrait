{
 "cells": [
  {
   "cell_type": "code",
   "execution_count": 1,
   "metadata": {},
   "outputs": [
    {
     "name": "stdout",
     "output_type": "stream",
     "text": [
      "['', '/Users/hata/Develop/python/py35env/lib/python35.zip', '/Users/hata/Develop/python/py35env/lib/python3.5', '/Users/hata/Develop/python/py35env/lib/python3.5/plat-darwin', '/Users/hata/Develop/python/py35env/lib/python3.5/lib-dynload', '/Library/Frameworks/Python.framework/Versions/3.5/lib/python3.5', '/Library/Frameworks/Python.framework/Versions/3.5/lib/python3.5/plat-darwin', '/Users/hata/Develop/python/py35env/lib/python3.5/site-packages', '/Users/hata/Develop/python/py35env/lib/python3.5/site-packages/IPython/extensions', '/Users/hata/.ipython']\n"
     ]
    }
   ],
   "source": [
    "# 如何新增自定义模块并在其他程序中import（5个步骤）\n",
    "# 1.完成自定义模块\n",
    "# 例如：Ipynb_importer.py\n",
    "# 2.查看python安装路径\n",
    "# import sys     \n",
    "# print (sys.path)\n",
    "# 3.把自定义模块的所在目录地址用新建.pth文件保存记录\n",
    "# 例如：CodePortrait.pth\n",
    "# 4.把.pth文件拷贝到python的安装路径→Lib→site-packages的文件夹下\n",
    "# 例如：/Users/hata/Develop/python/py35env/lib/python3.5/site-packages\n",
    "# 5.重启python或者jupyter notebook"
   ]
  },
  {
   "cell_type": "code",
   "execution_count": 2,
   "metadata": {},
   "outputs": [],
   "source": [
    "import Ipynb_importer"
   ]
  },
  {
   "cell_type": "code",
   "execution_count": 2,
   "metadata": {},
   "outputs": [],
   "source": [
    "# 引入自定义jupyter notebook文件作为模块使用\n",
    "# 这里仍然报没有找到模块错误。。。。。\n",
    "import LoadFileDemo\n",
    "import SeparateWordDemo"
   ]
  },
  {
   "cell_type": "code",
   "execution_count": null,
   "metadata": {},
   "outputs": [],
   "source": []
  }
 ],
 "metadata": {
  "kernelspec": {
   "display_name": "Python 3",
   "language": "python",
   "name": "python3"
  },
  "language_info": {
   "codemirror_mode": {
    "name": "ipython",
    "version": 3
   },
   "file_extension": ".py",
   "mimetype": "text/x-python",
   "name": "python",
   "nbconvert_exporter": "python",
   "pygments_lexer": "ipython3",
   "version": "3.5.2"
  }
 },
 "nbformat": 4,
 "nbformat_minor": 2
}
