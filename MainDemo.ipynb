{
 "cells": [
  {
   "cell_type": "code",
   "execution_count": 1,
   "metadata": {},
   "outputs": [],
   "source": [
    "# 导入依赖包\n",
    "import os\n",
    "import numpy as np\n",
    "# 导入自定义依赖包\n",
    "import LoadFileDemo as lf\n",
    "import SeparateWordDemo as sw\n",
    "import WordCleanDemo as wc\n",
    "import TfidfDemo as tfidf"
   ]
  },
  {
   "cell_type": "code",
   "execution_count": 2,
   "metadata": {},
   "outputs": [],
   "source": [
    "# 下一步（20180219）\n",
    "\n",
    "# 定义各种项目的常量\n",
    "# 包括：文件后缀名集合、保留关键字集合\n",
    "# 把几个工具类封装成类\n",
    "\n",
    "# Main类中一个fit方法，一个transform方法\n"
   ]
  },
  {
   "cell_type": "code",
   "execution_count": null,
   "metadata": {},
   "outputs": [],
   "source": []
  },
  {
   "cell_type": "code",
   "execution_count": null,
   "metadata": {},
   "outputs": [],
   "source": []
  },
  {
   "cell_type": "code",
   "execution_count": 3,
   "metadata": {},
   "outputs": [
    {
     "name": "stdout",
     "output_type": "stream",
     "text": [
      "------------------测试加载样本数据-------------------\n",
      "导入的数据集是： /Users/hata/Develop/workspace_springmvc/SpringbootRESTfulDemo/src \n",
      "输入目录地址：/Users/hata/Develop/workspace_springmvc/SpringbootRESTfulDemo/src\n",
      "－－－－－－－－－－－\n",
      "当前目录地址：/Users/hata/Develop/workspace_springmvc/SpringbootRESTfulDemo/src\n",
      "含有文件：['.DS_Store']\n",
      "读取文件错误 : /Users/hata/Develop/workspace_springmvc/SpringbootRESTfulDemo/src/.DS_Store \n",
      "－－－－－－－－－－－\n",
      "当前目录地址：/Users/hata/Develop/workspace_springmvc/SpringbootRESTfulDemo/src/main\n",
      "含有文件：['.DS_Store']\n",
      "读取文件错误 : /Users/hata/Develop/workspace_springmvc/SpringbootRESTfulDemo/src/main/.DS_Store \n",
      "－－－－－－－－－－－\n",
      "当前目录地址：/Users/hata/Develop/workspace_springmvc/SpringbootRESTfulDemo/src/main/java\n",
      "含有文件：['.DS_Store']\n",
      "读取文件错误 : /Users/hata/Develop/workspace_springmvc/SpringbootRESTfulDemo/src/main/java/.DS_Store \n",
      "－－－－－－－－－－－\n",
      "当前目录地址：/Users/hata/Develop/workspace_springmvc/SpringbootRESTfulDemo/src/main/java/demo\n",
      "含有文件：['.DS_Store']\n",
      "读取文件错误 : /Users/hata/Develop/workspace_springmvc/SpringbootRESTfulDemo/src/main/java/demo/.DS_Store \n",
      "－－－－－－－－－－－\n",
      "当前目录地址：/Users/hata/Develop/workspace_springmvc/SpringbootRESTfulDemo/src/main/java/demo/java\n",
      "含有文件：['.DS_Store']\n",
      "读取文件错误 : /Users/hata/Develop/workspace_springmvc/SpringbootRESTfulDemo/src/main/java/demo/java/.DS_Store \n",
      "－－－－－－－－－－－\n",
      "当前目录地址：/Users/hata/Develop/workspace_springmvc/SpringbootRESTfulDemo/src/main/java/demo/java/spring\n",
      "含有文件：['.DS_Store', 'App.java', 'SpringdemoApplication.java']\n",
      "读取文件错误 : /Users/hata/Develop/workspace_springmvc/SpringbootRESTfulDemo/src/main/java/demo/java/spring/.DS_Store \n",
      "－－－－－－－－－－－\n",
      "当前目录地址：/Users/hata/Develop/workspace_springmvc/SpringbootRESTfulDemo/src/main/java/demo/java/spring/controller\n",
      "含有文件：['BaseController.java', 'ColorController.java']\n",
      "－－－－－－－－－－－\n",
      "当前目录地址：/Users/hata/Develop/workspace_springmvc/SpringbootRESTfulDemo/src/main/java/demo/java/spring/dao\n",
      "含有文件：['.DS_Store', 'ColorMapper.java']\n",
      "读取文件错误 : /Users/hata/Develop/workspace_springmvc/SpringbootRESTfulDemo/src/main/java/demo/java/spring/dao/.DS_Store \n",
      "－－－－－－－－－－－\n",
      "当前目录地址：/Users/hata/Develop/workspace_springmvc/SpringbootRESTfulDemo/src/main/java/demo/java/spring/dao/extend\n",
      "含有文件：['ColorExtendMapper.java']\n",
      "－－－－－－－－－－－\n",
      "当前目录地址：/Users/hata/Develop/workspace_springmvc/SpringbootRESTfulDemo/src/main/java/demo/java/spring/domain\n",
      "含有文件：['.DS_Store', 'Color.java', 'ColorExample.java']\n",
      "读取文件错误 : /Users/hata/Develop/workspace_springmvc/SpringbootRESTfulDemo/src/main/java/demo/java/spring/domain/.DS_Store \n",
      "－－－－－－－－－－－\n",
      "当前目录地址：/Users/hata/Develop/workspace_springmvc/SpringbootRESTfulDemo/src/main/java/demo/java/spring/domain/extend\n",
      "含有文件：['ColorExtend.java']\n",
      "－－－－－－－－－－－\n",
      "当前目录地址：/Users/hata/Develop/workspace_springmvc/SpringbootRESTfulDemo/src/main/java/demo/java/spring/dto\n",
      "含有文件：['RSResult.java']\n",
      "－－－－－－－－－－－\n",
      "当前目录地址：/Users/hata/Develop/workspace_springmvc/SpringbootRESTfulDemo/src/main/java/demo/java/spring/service\n",
      "含有文件：['BaseService.java', 'ColorService.java']\n",
      "－－－－－－－－－－－\n",
      "当前目录地址：/Users/hata/Develop/workspace_springmvc/SpringbootRESTfulDemo/src/main/java/demo/java/spring/service/impl\n",
      "含有文件：['ColorServiceImpl.java']\n",
      "－－－－－－－－－－－\n",
      "当前目录地址：/Users/hata/Develop/workspace_springmvc/SpringbootRESTfulDemo/src/main/resources\n",
      "含有文件：['.DS_Store', 'application-dev.properties', 'application.properties']\n",
      "读取文件错误 : /Users/hata/Develop/workspace_springmvc/SpringbootRESTfulDemo/src/main/resources/.DS_Store \n",
      "－－－－－－－－－－－\n",
      "当前目录地址：/Users/hata/Develop/workspace_springmvc/SpringbootRESTfulDemo/src/main/resources/mybatis\n",
      "含有文件：['ColorExtendMapper.xml', 'ColorMapper.xml']\n",
      "－－－－－－－－－－－\n",
      "当前目录地址：/Users/hata/Develop/workspace_springmvc/SpringbootRESTfulDemo/src/test\n",
      "含有文件：[]\n",
      "－－－－－－－－－－－\n",
      "当前目录地址：/Users/hata/Develop/workspace_springmvc/SpringbootRESTfulDemo/src/test/java\n",
      "含有文件：[]\n",
      "－－－－－－－－－－－\n",
      "当前目录地址：/Users/hata/Develop/workspace_springmvc/SpringbootRESTfulDemo/src/test/resources\n",
      "含有文件：[]\n",
      "------------------检查加载样本数据-------------------\n",
      "documents length: 17 \n",
      "filenames length: 17 \n",
      "paths length: 17 \n"
     ]
    }
   ],
   "source": [
    "lf.log('测试加载样本数据')\n",
    "path_folder = '/Users/hata/Develop/' \\\n",
    "    + 'workspace_springmvc/' \\\n",
    "    + 'SpringbootRESTfulDemo/'\n",
    "data_folder=os.path.join(path_folder,\"src\")\n",
    "print('导入的数据集是： %s ' % data_folder)\n",
    "file_type = ['txt','java','xml']\n",
    "documents, filenames, paths = lf.load_project_data(data_folder)\n",
    "lf.log('检查加载样本数据')\n",
    "print('documents length: %i ' % len(documents))\n",
    "print('filenames length: %i ' % len(filenames))\n",
    "print('paths length: %i ' % len(paths))\n"
   ]
  },
  {
   "cell_type": "code",
   "execution_count": 4,
   "metadata": {},
   "outputs": [
    {
     "data": {
      "text/plain": [
       "'package demo.java.spring;\\n\\n/**\\n * Hello world!\\n *\\n */\\npublic class App {\\n\\tpublic static void main(String[] args) {\\n\\t\\tSystem.out.println(\"Hello World!\");\\n\\t}\\n}\\n'"
      ]
     },
     "execution_count": 4,
     "metadata": {},
     "output_type": "execute_result"
    }
   ],
   "source": [
    "documents[0]"
   ]
  },
  {
   "cell_type": "code",
   "execution_count": 5,
   "metadata": {},
   "outputs": [
    {
     "name": "stdout",
     "output_type": "stream",
     "text": [
      "------------------测试分词效果-------------------\n",
      "分词符号集合: ['\\r\\n', '\\r', '\\n', '\\t', ' ', '_', '.', ',', '+', '-', '=', ';', ':', '/', '*', '#', '@', '?', '!', '%', '^', \"'\", '\"', '(', ')', '[', ']', '{', '}', '&', '~', '|', '-'] \n",
      "目标分词符号:   \n",
      "分词符号集合: ['\\r\\n', '\\r', '\\n', '\\t', ' ', '_', '.', ',', '+', '-', '=', ';', ':', '/', '*', '#', '@', '?', '!', '%', '^', \"'\", '\"', '(', ')', '[', ']', '{', '}', '&', '~', '|', '-'] \n",
      "目标分词符号:   \n",
      "分词符号集合: ['\\r\\n', '\\r', '\\n', '\\t', ' ', '_', '.', ',', '+', '-', '=', ';', ':', '/', '*', '#', '@', '?', '!', '%', '^', \"'\", '\"', '(', ')', '[', ']', '{', '}', '&', '~', '|', '-'] \n",
      "目标分词符号:   \n",
      "分词符号集合: ['\\r\\n', '\\r', '\\n', '\\t', ' ', '_', '.', ',', '+', '-', '=', ';', ':', '/', '*', '#', '@', '?', '!', '%', '^', \"'\", '\"', '(', ')', '[', ']', '{', '}', '&', '~', '|', '-'] \n",
      "目标分词符号:   \n",
      "分词符号集合: ['\\r\\n', '\\r', '\\n', '\\t', ' ', '_', '.', ',', '+', '-', '=', ';', ':', '/', '*', '#', '@', '?', '!', '%', '^', \"'\", '\"', '(', ')', '[', ']', '{', '}', '&', '~', '|', '-'] \n",
      "目标分词符号:   \n",
      "分词符号集合: ['\\r\\n', '\\r', '\\n', '\\t', ' ', '_', '.', ',', '+', '-', '=', ';', ':', '/', '*', '#', '@', '?', '!', '%', '^', \"'\", '\"', '(', ')', '[', ']', '{', '}', '&', '~', '|', '-'] \n",
      "目标分词符号:   \n",
      "分词符号集合: ['\\r\\n', '\\r', '\\n', '\\t', ' ', '_', '.', ',', '+', '-', '=', ';', ':', '/', '*', '#', '@', '?', '!', '%', '^', \"'\", '\"', '(', ')', '[', ']', '{', '}', '&', '~', '|', '-'] \n",
      "目标分词符号:   \n",
      "分词符号集合: ['\\r\\n', '\\r', '\\n', '\\t', ' ', '_', '.', ',', '+', '-', '=', ';', ':', '/', '*', '#', '@', '?', '!', '%', '^', \"'\", '\"', '(', ')', '[', ']', '{', '}', '&', '~', '|', '-'] \n",
      "目标分词符号:   \n",
      "分词符号集合: ['\\r\\n', '\\r', '\\n', '\\t', ' ', '_', '.', ',', '+', '-', '=', ';', ':', '/', '*', '#', '@', '?', '!', '%', '^', \"'\", '\"', '(', ')', '[', ']', '{', '}', '&', '~', '|', '-'] \n",
      "目标分词符号:   \n",
      "分词符号集合: ['\\r\\n', '\\r', '\\n', '\\t', ' ', '_', '.', ',', '+', '-', '=', ';', ':', '/', '*', '#', '@', '?', '!', '%', '^', \"'\", '\"', '(', ')', '[', ']', '{', '}', '&', '~', '|', '-'] \n",
      "目标分词符号:   \n",
      "分词符号集合: ['\\r\\n', '\\r', '\\n', '\\t', ' ', '_', '.', ',', '+', '-', '=', ';', ':', '/', '*', '#', '@', '?', '!', '%', '^', \"'\", '\"', '(', ')', '[', ']', '{', '}', '&', '~', '|', '-'] \n",
      "目标分词符号:   \n",
      "分词符号集合: ['\\r\\n', '\\r', '\\n', '\\t', ' ', '_', '.', ',', '+', '-', '=', ';', ':', '/', '*', '#', '@', '?', '!', '%', '^', \"'\", '\"', '(', ')', '[', ']', '{', '}', '&', '~', '|', '-'] \n",
      "目标分词符号:   \n",
      "分词符号集合: ['\\r\\n', '\\r', '\\n', '\\t', ' ', '_', '.', ',', '+', '-', '=', ';', ':', '/', '*', '#', '@', '?', '!', '%', '^', \"'\", '\"', '(', ')', '[', ']', '{', '}', '&', '~', '|', '-'] \n",
      "目标分词符号:   \n",
      "分词符号集合: ['\\r\\n', '\\r', '\\n', '\\t', ' ', '_', '.', ',', '+', '-', '=', ';', ':', '/', '*', '#', '@', '?', '!', '%', '^', \"'\", '\"', '(', ')', '[', ']', '{', '}', '&', '~', '|', '-'] \n",
      "目标分词符号:   \n",
      "分词符号集合: ['\\r\\n', '\\r', '\\n', '\\t', ' ', '_', '.', ',', '+', '-', '=', ';', ':', '/', '*', '#', '@', '?', '!', '%', '^', \"'\", '\"', '(', ')', '[', ']', '{', '}', '&', '~', '|', '-'] \n",
      "目标分词符号:   \n",
      "分词符号集合: ['\\r\\n', '\\r', '\\n', '\\t', ' ', '_', '.', ',', '+', '-', '=', ';', ':', '/', '*', '#', '@', '?', '!', '%', '^', \"'\", '\"', '(', ')', '[', ']', '{', '}', '&', '~', '|', '-'] \n",
      "目标分词符号:   \n",
      "分词符号集合: ['\\r\\n', '\\r', '\\n', '\\t', ' ', '_', '.', ',', '+', '-', '=', ';', ':', '/', '*', '#', '@', '?', '!', '%', '^', \"'\", '\"', '(', ')', '[', ']', '{', '}', '&', '~', '|', '-'] \n",
      "目标分词符号:   \n",
      "output_text_list length: 17 \n"
     ]
    }
   ],
   "source": [
    "lf.log('测试分词效果')\n",
    "output_text_list = sw.separate_texts(documents)\n",
    "print('output_text_list length: %i ' % len(output_text_list))\n"
   ]
  },
  {
   "cell_type": "code",
   "execution_count": 6,
   "metadata": {},
   "outputs": [
    {
     "name": "stdout",
     "output_type": "stream",
     "text": [
      "------------------测试特征预处理（全部）-------------------\n",
      "本次处理文章的长度：20 \n",
      "本次处理文章的长度：38 \n",
      "本次处理文章的长度：246 \n",
      "本次处理文章的长度：300 \n",
      "本次处理文章的长度：347 \n",
      "本次处理文章的长度：35 \n",
      "本次处理文章的长度：802 \n",
      "本次处理文章的长度：2896 \n",
      "本次处理文章的长度：307 \n",
      "本次处理文章的长度：129 \n",
      "本次处理文章的长度：54 \n",
      "本次处理文章的长度：77 \n",
      "本次处理文章的长度：382 \n",
      "本次处理文章的长度：47 \n",
      "本次处理文章的长度：88 \n",
      "本次处理文章的长度：494 \n",
      "本次处理文章的长度：1849 \n",
      "text_done_list length: 17 \n"
     ]
    }
   ],
   "source": [
    "lf.log('测试特征预处理（全部）')\n",
    "text_done_list = wc.word_clean(output_text_list)\n",
    "print('text_done_list length: %i ' % len(text_done_list))\n",
    "#print(text_done_list[0])\n"
   ]
  },
  {
   "cell_type": "code",
   "execution_count": 10,
   "metadata": {
    "scrolled": false
   },
   "outputs": [
    {
     "name": "stdout",
     "output_type": "stream",
     "text": [
      "------------------测试短语加权和权重排序-------------------\n",
      "topk_t : 10 \n",
      "特征维度: 289 \n",
      "样本数量: 17 \n",
      "第一个样本的特征数量: 289 \n",
      "------------------显示前20个文本样例-------------------\n",
      "第 1 个文件\n",
      "样本名称：App.java\n",
      "样本路径：/Users/hata/Develop/workspace_springmvc/SpringbootRESTfulDemo/src/main/java/demo/java/spring\n",
      "特征：['hello', 'world', 'app', 'main', 'args', 'out', 'println', 'system', 'string', 'demo']\n",
      "权重：[0.55817164181001544, 0.55817164181001544, 0.27908582090500772, 0.2436927605154294, 0.21858098453353969, 0.21858098453353969, 0.21858098453353969, 0.21858098453353969, 0.14779486375438311, 0.097571311790603646]\n",
      "第 2 个文件\n",
      "样本名称：SpringdemoApplication.java\n",
      "样本路径：/Users/hata/Develop/workspace_springmvc/SpringbootRESTfulDemo/src/main/java/demo/java/spring\n",
      "特征：['application', 'boot', 'springdemo', 'args', 'spring', 'springframework', 'autoconfigure', 'run', 'org', 'main']\n",
      "权重：[0.7335835402040719, 0.48905569346938127, 0.24452784673469063, 0.19151505910193709, 0.1912032145536833, 0.16050456627808199, 0.12226392336734532, 0.12226392336734532, 0.12143596574190285, 0.10675867695541776]\n",
      "第 3 个文件\n",
      "样本名称：BaseController.java\n",
      "样本路径：/Users/hata/Develop/workspace_springmvc/SpringbootRESTfulDemo/src/main/java/demo/java/spring/controller\n",
      "特征：['rs', 'method', 'except', 'invoke', 'rsresult', 'service', 'message', 'name', 'set', 'check']\n",
      "权重：[0.55912904255077056, 0.41851874243474219, 0.24546989260145272, 0.2150496317502964, 0.20925937121737109, 0.19761768512896374, 0.18777750241526484, 0.18221337606847954, 0.17052784794560077, 0.15022200193221188]\n",
      "第 4 个文件\n",
      "样本名称：ColorController.java\n",
      "样本路径：/Users/hata/Develop/workspace_springmvc/SpringbootRESTfulDemo/src/main/java/demo/java/spring/controller\n",
      "特征：['color', 'request', 'id', 'method', 'get', 'service', 'annotation', 'control', 'map', 'bind']\n",
      "权重：[0.50224356967175587, 0.40710551269145445, 0.28460468948066164, 0.23992620859615887, 0.20089742786870232, 0.18832493737612593, 0.18789485201144052, 0.18789485201144052, 0.17910032033289724, 0.14345601651994269]\n",
      "第 5 个文件\n",
      "样本名称：ColorMapper.java\n",
      "样本路径：/Users/hata/Develop/workspace_springmvc/SpringbootRESTfulDemo/src/main/java/demo/java/spring/dao\n",
      "特征：['this', 'color', 'method', 'example', 'table', 'by', 'correspond', 'database', 'sun', 'the']\n",
      "权重：[0.34726309977275321, 0.32554365886958314, 0.32175536630624213, 0.3088082823483308, 0.23098002721583, 0.21328722477662343, 0.18871617254620213, 0.18871617254620213, 0.18871617254620213, 0.18871617254620213]\n",
      "第 6 个文件\n",
      "样本名称：ColorExtendMapper.java\n",
      "样本路径：/Users/hata/Develop/workspace_springmvc/SpringbootRESTfulDemo/src/main/java/demo/java/spring/dao/extend\n",
      "特征：['extend', 'mapper', 'color', 'id', 'annotations', 'apache', 'ibatis', 'full', 'info', 'demo']\n",
      "权重：[0.65394179998412605, 0.3923650799904756, 0.30116082148229711, 0.20077388098819809, 0.18777930138904034, 0.18777930138904034, 0.18777930138904034, 0.16842923230802317, 0.16842923230802317, 0.15036862584591831]\n",
      "第 7 个文件\n",
      "样本名称：Color.java\n",
      "样本路径：/Users/hata/Develop/workspace_springmvc/SpringbootRESTfulDemo/src/main/java/demo/java/spring/domain\n",
      "特征：['color', 'the', 'this', 'value', 'of', 'id', 'method', 'column', 'database', 'sun']\n",
      "权重：[0.48291205246245628, 0.37281860972388142, 0.2940155600995088, 0.26593288354672984, 0.22396556523216082, 0.19416051593851336, 0.18161270095874232, 0.15977940416737776, 0.15977940416737776, 0.15977940416737776]\n",
      "第 8 个文件\n",
      "样本名称：ColorExample.java\n",
      "样本路径：/Users/hata/Develop/workspace_springmvc/SpringbootRESTfulDemo/src/main/java/demo/java/spring/domain\n",
      "特征：['criteria', 'value', 'add', 'color', 'criterion', 'and', 'not', 'id', 'string', 'name']\n",
      "权重：[0.55049308043172829, 0.43468252966264981, 0.30546829283160265, 0.29487833862023421, 0.28485670954743531, 0.21833902768178257, 0.16314520637716748, 0.14951577732856949, 0.13977853639205798, 0.12564362821758021]\n",
      "第 9 个文件\n",
      "样本名称：ColorExtend.java\n",
      "样本路径：/Users/hata/Develop/workspace_springmvc/SpringbootRESTfulDemo/src/main/java/demo/java/spring/domain/extend\n",
      "特征：['color', 'name', 'field', 'style', 'this', 'string', 'ui', 'categary', 'descript', 'fri']\n",
      "权重：[0.63829998920584008, 0.25746578337505704, 0.23798663813575033, 0.2032810447690617, 0.19945137637258054, 0.1930993375312928, 0.18932119034007028, 0.1595611010980644, 0.1595611010980644, 0.15193155161753658]\n",
      "第 10 个文件\n",
      "样本名称：RSResult.java\n",
      "样本路径：/Users/hata/Develop/workspace_springmvc/SpringbootRESTfulDemo/src/main/java/demo/java/spring/dto\n",
      "特征：['error', 'success', 'code', 'message', 'conent', 'is', 'set', 'get', 'rsresult', 'string']\n",
      "权重：[0.62285140614672274, 0.35914404783749149, 0.35665605252005533, 0.35591508922669873, 0.31923915363332578, 0.29079108786986663, 0.11543569505043705, 0.095136222732900941, 0.092960626797816914, 0.080945811658188122]\n",
      "第 11 个文件\n",
      "样本名称：BaseService.java\n",
      "样本路径：/Users/hata/Develop/workspace_springmvc/SpringbootRESTfulDemo/src/main/java/demo/java/spring/service\n",
      "特征：['map', 'service', 'common', 'rsresult', 'java', 'integer', 'check', 'constant', 'repeat', 'stereotype']\n",
      "权重：[0.52981687546075151, 0.4874670994065739, 0.37132675703872603, 0.22583043697191266, 0.19472955668115691, 0.16323119884174644, 0.16211795028241369, 0.16211795028241369, 0.16211795028241369, 0.14541220308859279]\n",
      "第 12 个文件\n",
      "样本名称：ColorService.java\n",
      "样本路径：/Users/hata/Develop/workspace_springmvc/SpringbootRESTfulDemo/src/main/java/demo/java/spring/service\n",
      "特征：['color', 'service', 'id', 'java', 'demo', 'integer', 'spring', 'extend', 'list', 'rsresult']\n",
      "权重：[0.69314005739467688, 0.40610138494110393, 0.23104668579822565, 0.2163016205017167, 0.17304129640137333, 0.16318249825498518, 0.15480758866568431, 0.15050870645882464, 0.15050870645882464, 0.15050870645882464]\n",
      "第 13 个文件\n",
      "样本名称：ColorServiceImpl.java\n",
      "样本路径：/Users/hata/Develop/workspace_springmvc/SpringbootRESTfulDemo/src/main/java/demo/java/spring/service/impl\n",
      "特征：['color', 'id', 'mapper', 'extend', 'override', 'service', 'by', 'example', 'select', 'get']\n",
      "权重：[0.74498514399550431, 0.28557763853160995, 0.22647291672243194, 0.1617663690874514, 0.15959278661443807, 0.13967255039302034, 0.1365806097325091, 0.13283104651797376, 0.11385518272969179, 0.11174777159932564]\n",
      "第 14 个文件\n",
      "样本名称：application-dev.properties\n",
      "样本路径：/Users/hata/Develop/workspace_springmvc/SpringbootRESTfulDemo/src/main/resources\n",
      "特征：['datasource', 'spring', 'driver', 'idle', 'mysql', 'max', 'jdbc', 'character', 'initial', 'min']\n",
      "权重：[0.8217092420379567, 0.2284507070045711, 0.18260205378621261, 0.18260205378621261, 0.18260205378621261, 0.15944485613296383, 0.14301456292192644, 0.091301026893106305, 0.091301026893106305, 0.091301026893106305]\n",
      "第 15 个文件\n",
      "样本名称：application.properties\n",
      "样本路径：/Users/hata/Develop/workspace_springmvc/SpringbootRESTfulDemo/src/main/resources\n",
      "特征：['thymeleaf', 'http', 'spring', 'encoding', 'mybatis', 'enabled', 'server', 'utf', 'classpath', 'html']\n",
      "权重：[0.47876865315186495, 0.31247772707327603, 0.29949016190207883, 0.28463218611056867, 0.24998218165862082, 0.23938432657593248, 0.20902612385769298, 0.17077931166634119, 0.15958955105062167, 0.15958955105062167]\n",
      "第 16 个文件\n",
      "样本名称：ColorExtendMapper.xml\n",
      "样本路径：/Users/hata/Develop/workspace_springmvc/SpringbootRESTfulDemo/src/main/resources/mybatis\n",
      "特征：['color', 'result', 'id', 'type', 'style', 'property', 'jdbc', 'theme', 'column', 'map']\n",
      "权重：[0.38041056018984126, 0.35449809736841242, 0.3525756411515602, 0.27397612365593604, 0.26593975492012673, 0.26464145758493729, 0.24907431302111743, 0.24788315949822784, 0.24105870621052045, 0.18433901063157446]\n",
      "第 17 个文件\n",
      "样本名称：ColorMapper.xml\n",
      "样本路径：/Users/hata/Develop/workspace_springmvc/SpringbootRESTfulDemo/src/main/resources/mybatis\n",
      "特征：['color', 'test', 'type', 'jdbc', 'id', 'varchar', 'element', 'criterion', 'value', 'this']\n",
      "权重：[0.38916886202036255, 0.31263312926768022, 0.2931541364151119, 0.26234502106428975, 0.25017998272737596, 0.22748805980410117, 0.223309378048343, 0.16899113014018946, 0.15844552642677262, 0.14657706820755595]\n"
     ]
    }
   ],
   "source": [
    "lf.log('测试短语加权和权重排序')\n",
    "topk_t = 10\n",
    "word_t,weight_t=tfidf.tfidf_wlist(text_done_list)\n",
    "topk_tfidf_t = tfidf.find_topk_tfidf(weight_t,topk_t)\n",
    "print('topk_t : %i ' % topk_t)\n",
    "print('特征维度: %i ' % len(word_t))\n",
    "print('样本数量: %i ' % len(weight_t))\n",
    "print('第一个样本的特征数量: %i ' % len(weight_t[0]))\n",
    "\n",
    "lf.log('显示前20个文本样例')\n",
    "for i in range(len(filenames[:20])):\n",
    "    print('第 %s 个文件' % str(i+1))\n",
    "    print('样本名称：%s' % filenames[i])\n",
    "    print('样本路径：%s' % paths[i])\n",
    "    #print('topk排序：%s' % topk_tfidf_t[i])\n",
    "    print('特征：%s' % [word_t[index] for index in topk_tfidf_t[i]])\n",
    "    print('权重：%s' % [weight_t[i][index] for index in topk_tfidf_t[i]])\n"
   ]
  },
  {
   "cell_type": "code",
   "execution_count": null,
   "metadata": {},
   "outputs": [],
   "source": []
  },
  {
   "cell_type": "code",
   "execution_count": null,
   "metadata": {},
   "outputs": [],
   "source": []
  },
  {
   "cell_type": "code",
   "execution_count": null,
   "metadata": {},
   "outputs": [],
   "source": []
  },
  {
   "cell_type": "code",
   "execution_count": null,
   "metadata": {},
   "outputs": [],
   "source": []
  },
  {
   "cell_type": "code",
   "execution_count": null,
   "metadata": {},
   "outputs": [],
   "source": []
  }
 ],
 "metadata": {
  "kernelspec": {
   "display_name": "Python 3",
   "language": "python",
   "name": "python3"
  },
  "language_info": {
   "codemirror_mode": {
    "name": "ipython",
    "version": 3
   },
   "file_extension": ".py",
   "mimetype": "text/x-python",
   "name": "python",
   "nbconvert_exporter": "python",
   "pygments_lexer": "ipython3",
   "version": "3.5.2"
  }
 },
 "nbformat": 4,
 "nbformat_minor": 2
}
